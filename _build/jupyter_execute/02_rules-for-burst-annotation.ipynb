{
 "cells": [
  {
   "cell_type": "markdown",
   "id": "01a9ada3",
   "metadata": {},
   "source": [
    "# Rules for Burst Annotation\n",
    "\n",
    "- Burst-suppression (BS) electroencephalography (EEG) patterns are characterized by alternating periods of high (burst) and low (suppression) amplitude electrical \n",
    "  activity in the brain. They have long been observed in the human brain from epilepsy to acute brain injuries such as trauma, early infantile encephalopathy, stroke and\n",
    "  cardiac arrest [(Shanker et al., 2021)](https://www.frontiersin.org/journals/psychology/articles/10.3389/fpsyg.2021.673529/full).\n",
    "- Criteria for Identifying Bursts\n",
    "  - High-Voltage Slow or Sharp Waves\n",
    "  - Suppression Phases Before and After Bursts\n",
    "  - Duration of Suppressed Phases (At least 2.5 seconds)\n",
    "  - Distinguishing Artifacts from Bursts"
   ]
  }
 ],
 "metadata": {
  "jupytext": {
   "formats": "md:myst",
   "text_representation": {
    "extension": ".md",
    "format_name": "myst",
    "format_version": 0.13,
    "jupytext_version": "1.11.5"
   }
  },
  "kernelspec": {
   "display_name": "Python 3",
   "language": "python",
   "name": "python3"
  },
  "language_info": {
   "codemirror_mode": {
    "name": "ipython",
    "version": 3
   },
   "file_extension": ".py",
   "mimetype": "text/x-python",
   "name": "python",
   "nbconvert_exporter": "python",
   "pygments_lexer": "ipython3",
   "version": "3.10.11"
  },
  "source_map": [
   13
  ]
 },
 "nbformat": 4,
 "nbformat_minor": 5
}